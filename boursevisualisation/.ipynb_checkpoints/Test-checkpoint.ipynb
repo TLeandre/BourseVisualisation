{
 "cells": [
  {
   "cell_type": "code",
   "execution_count": null,
   "id": "b883dad4",
   "metadata": {},
   "outputs": [],
   "source": [
    "##https://www.qmr.ai/yfinance-library-the-definitive-guide/"
   ]
  },
  {
   "cell_type": "code",
   "execution_count": 1,
   "id": "f643acb5",
   "metadata": {},
   "outputs": [],
   "source": [
    "import yfinance as yf \n",
    "import pandas as pd "
   ]
  },
  {
   "cell_type": "code",
   "execution_count": 61,
   "id": "abfcdf12",
   "metadata": {},
   "outputs": [],
   "source": [
    "def create(symbole, inter):\n",
    "    df = yf.download(symbole, start='1990-01-01', end='2020-01-01',  interval = inter)\n",
    "    df = df.reset_index(level='Date')\n",
    "    # 1d,5d,1wk,1mo,3mo\n",
    "    df.to_csv(symbole+ '_' + inter+'.csv', sep=';', encoding='utf-8', index=False)"
   ]
  },
  {
   "cell_type": "code",
   "execution_count": 62,
   "id": "b75d3ab6",
   "metadata": {},
   "outputs": [
    {
     "name": "stdout",
     "output_type": "stream",
     "text": [
      "[*********************100%***********************]  1 of 1 completed\n"
     ]
    }
   ],
   "source": [
    "create('SEL.PA', \"1d\")"
   ]
  },
  {
   "cell_type": "code",
   "execution_count": 65,
   "id": "96301391",
   "metadata": {},
   "outputs": [],
   "source": [
    "test = pd.read_csv('SEL.PA_1d.csv', sep=';', encoding='utf-8')"
   ]
  },
  {
   "cell_type": "code",
   "execution_count": 75,
   "id": "ddaeccce",
   "metadata": {},
   "outputs": [
    {
     "data": {
      "text/plain": [
       "str"
      ]
     },
     "execution_count": 75,
     "metadata": {},
     "output_type": "execute_result"
    }
   ],
   "source": [
    "type(test.loc[test.index[-1], 'Date'])"
   ]
  },
  {
   "cell_type": "code",
   "execution_count": 73,
   "id": "c9769cfe",
   "metadata": {},
   "outputs": [
    {
     "name": "stdout",
     "output_type": "stream",
     "text": [
      "[*********************100%***********************]  1 of 1 completed\n"
     ]
    }
   ],
   "source": [
    "df = yf.download('SEL.PA', start=test.loc[test.index[-1], 'Date'], end=None,  interval = \"1d\")"
   ]
  },
  {
   "cell_type": "code",
   "execution_count": 74,
   "id": "c8b388c2",
   "metadata": {},
   "outputs": [
    {
     "data": {
      "text/html": [
       "<div>\n",
       "<style scoped>\n",
       "    .dataframe tbody tr th:only-of-type {\n",
       "        vertical-align: middle;\n",
       "    }\n",
       "\n",
       "    .dataframe tbody tr th {\n",
       "        vertical-align: top;\n",
       "    }\n",
       "\n",
       "    .dataframe thead th {\n",
       "        text-align: right;\n",
       "    }\n",
       "</style>\n",
       "<table border=\"1\" class=\"dataframe\">\n",
       "  <thead>\n",
       "    <tr style=\"text-align: right;\">\n",
       "      <th></th>\n",
       "      <th>Open</th>\n",
       "      <th>High</th>\n",
       "      <th>Low</th>\n",
       "      <th>Close</th>\n",
       "      <th>Adj Close</th>\n",
       "      <th>Volume</th>\n",
       "    </tr>\n",
       "    <tr>\n",
       "      <th>Date</th>\n",
       "      <th></th>\n",
       "      <th></th>\n",
       "      <th></th>\n",
       "      <th></th>\n",
       "      <th></th>\n",
       "      <th></th>\n",
       "    </tr>\n",
       "  </thead>\n",
       "  <tbody>\n",
       "    <tr>\n",
       "      <th>2019-12-31</th>\n",
       "      <td>17.406000</td>\n",
       "      <td>17.406000</td>\n",
       "      <td>17.299999</td>\n",
       "      <td>17.350000</td>\n",
       "      <td>17.350000</td>\n",
       "      <td>2474</td>\n",
       "    </tr>\n",
       "    <tr>\n",
       "      <th>2020-01-02</th>\n",
       "      <td>17.344999</td>\n",
       "      <td>17.580000</td>\n",
       "      <td>17.344999</td>\n",
       "      <td>17.565001</td>\n",
       "      <td>17.565001</td>\n",
       "      <td>2309</td>\n",
       "    </tr>\n",
       "    <tr>\n",
       "      <th>2020-01-03</th>\n",
       "      <td>17.357000</td>\n",
       "      <td>17.497000</td>\n",
       "      <td>17.356001</td>\n",
       "      <td>17.497000</td>\n",
       "      <td>17.497000</td>\n",
       "      <td>2190</td>\n",
       "    </tr>\n",
       "    <tr>\n",
       "      <th>2020-01-06</th>\n",
       "      <td>17.337999</td>\n",
       "      <td>17.459999</td>\n",
       "      <td>17.273001</td>\n",
       "      <td>17.451000</td>\n",
       "      <td>17.451000</td>\n",
       "      <td>13166</td>\n",
       "    </tr>\n",
       "    <tr>\n",
       "      <th>2020-01-07</th>\n",
       "      <td>17.547001</td>\n",
       "      <td>17.573000</td>\n",
       "      <td>17.457001</td>\n",
       "      <td>17.502001</td>\n",
       "      <td>17.502001</td>\n",
       "      <td>15846</td>\n",
       "    </tr>\n",
       "    <tr>\n",
       "      <th>...</th>\n",
       "      <td>...</td>\n",
       "      <td>...</td>\n",
       "      <td>...</td>\n",
       "      <td>...</td>\n",
       "      <td>...</td>\n",
       "      <td>...</td>\n",
       "    </tr>\n",
       "    <tr>\n",
       "      <th>2023-02-23</th>\n",
       "      <td>15.749000</td>\n",
       "      <td>15.849000</td>\n",
       "      <td>15.749000</td>\n",
       "      <td>15.789000</td>\n",
       "      <td>15.789000</td>\n",
       "      <td>2941</td>\n",
       "    </tr>\n",
       "    <tr>\n",
       "      <th>2023-02-24</th>\n",
       "      <td>15.880000</td>\n",
       "      <td>15.880000</td>\n",
       "      <td>15.592000</td>\n",
       "      <td>15.592000</td>\n",
       "      <td>15.592000</td>\n",
       "      <td>9568</td>\n",
       "    </tr>\n",
       "    <tr>\n",
       "      <th>2023-02-27</th>\n",
       "      <td>15.716000</td>\n",
       "      <td>15.848000</td>\n",
       "      <td>15.716000</td>\n",
       "      <td>15.796000</td>\n",
       "      <td>15.796000</td>\n",
       "      <td>2405</td>\n",
       "    </tr>\n",
       "    <tr>\n",
       "      <th>2023-02-28</th>\n",
       "      <td>15.741000</td>\n",
       "      <td>15.921000</td>\n",
       "      <td>15.721000</td>\n",
       "      <td>15.861000</td>\n",
       "      <td>15.861000</td>\n",
       "      <td>12027</td>\n",
       "    </tr>\n",
       "    <tr>\n",
       "      <th>2023-03-01</th>\n",
       "      <td>15.870000</td>\n",
       "      <td>15.932000</td>\n",
       "      <td>15.759000</td>\n",
       "      <td>15.794000</td>\n",
       "      <td>15.794000</td>\n",
       "      <td>1800</td>\n",
       "    </tr>\n",
       "  </tbody>\n",
       "</table>\n",
       "<p>816 rows × 6 columns</p>\n",
       "</div>"
      ],
      "text/plain": [
       "                 Open       High        Low      Close  Adj Close  Volume\n",
       "Date                                                                     \n",
       "2019-12-31  17.406000  17.406000  17.299999  17.350000  17.350000    2474\n",
       "2020-01-02  17.344999  17.580000  17.344999  17.565001  17.565001    2309\n",
       "2020-01-03  17.357000  17.497000  17.356001  17.497000  17.497000    2190\n",
       "2020-01-06  17.337999  17.459999  17.273001  17.451000  17.451000   13166\n",
       "2020-01-07  17.547001  17.573000  17.457001  17.502001  17.502001   15846\n",
       "...               ...        ...        ...        ...        ...     ...\n",
       "2023-02-23  15.749000  15.849000  15.749000  15.789000  15.789000    2941\n",
       "2023-02-24  15.880000  15.880000  15.592000  15.592000  15.592000    9568\n",
       "2023-02-27  15.716000  15.848000  15.716000  15.796000  15.796000    2405\n",
       "2023-02-28  15.741000  15.921000  15.721000  15.861000  15.861000   12027\n",
       "2023-03-01  15.870000  15.932000  15.759000  15.794000  15.794000    1800\n",
       "\n",
       "[816 rows x 6 columns]"
      ]
     },
     "execution_count": 74,
     "metadata": {},
     "output_type": "execute_result"
    }
   ],
   "source": [
    "df"
   ]
  },
  {
   "cell_type": "code",
   "execution_count": null,
   "id": "4bb76dd3",
   "metadata": {},
   "outputs": [],
   "source": []
  }
 ],
 "metadata": {
  "kernelspec": {
   "display_name": "Python 3 (ipykernel)",
   "language": "python",
   "name": "python3"
  },
  "language_info": {
   "codemirror_mode": {
    "name": "ipython",
    "version": 3
   },
   "file_extension": ".py",
   "mimetype": "text/x-python",
   "name": "python",
   "nbconvert_exporter": "python",
   "pygments_lexer": "ipython3",
   "version": "3.10.5"
  }
 },
 "nbformat": 4,
 "nbformat_minor": 5
}
