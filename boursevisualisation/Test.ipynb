{
 "cells": [
  {
   "cell_type": "code",
   "execution_count": 2,
   "id": "fe687933",
   "metadata": {},
   "outputs": [],
   "source": [
    "import pandas as pd\n",
    "import yfinance as yf \n",
    "import matplotlib.pyplot as plt"
   ]
  },
  {
   "cell_type": "code",
   "execution_count": 13,
   "id": "42e3810f",
   "metadata": {},
   "outputs": [],
   "source": [
    "def getActionsHist(actions):\n",
    "    df=[]\n",
    "\n",
    "    for i in range(len(actions)):\n",
    "        df.append(yf.Ticker(actions['symbole'][i]).history(period='1d', start='2022-9-1', end=None))\n",
    "        df[i].drop(df[i].iloc[:, 4:8], axis=1, inplace=True)\n",
    "        df[i].set_axis([ 'Open'+str(i), 'High'+str(i),'Low'+str(i),'Close'+str(i)], axis='columns', inplace=True)\n",
    "    return df"
   ]
  },
  {
   "cell_type": "code",
   "execution_count": 14,
   "id": "8e387034",
   "metadata": {
    "scrolled": true
   },
   "outputs": [],
   "source": [
    "def concatHist(df, actions):\n",
    "    if len(actions) >= 2:\n",
    "        concatdf = pd.concat([df[0], df[1]], axis=1)\n",
    "    else:\n",
    "        concatdf = df[0]\n",
    "\n",
    "    for i in range(2,len(actions)):\n",
    "        concatdf = pd.concat([concatdf, df[i]], axis=1)\n",
    "    concatdf = concatdf.fillna(method='ffill')"
   ]
  },
  {
   "cell_type": "code",
   "execution_count": 18,
   "id": "2c335e6f",
   "metadata": {},
   "outputs": [],
   "source": [
    "def resultHist(concatdf, actions):\n",
    "    result = pd.DataFrame(columns=[\"Open\",\"High\",\"Low\",\"Close\"])\n",
    "\n",
    "    result[\"Open\"] = concatdf[\"Open0\"]*actions['quantity'][0]\n",
    "    result[\"High\"] = concatdf[\"High0\"]*actions['quantity'][0]\n",
    "    result[\"Low\"] = concatdf[\"Low0\"]*actions['quantity'][0]\n",
    "    result[\"Close\"] = concatdf[\"Close0\"]*actions['quantity'][0]\n",
    "\n",
    "\n",
    "    for i in range(1,len(actions)):\n",
    "\n",
    "        result[\"Open\"] += concatdf[\"Open\"+str(i)]*actions['quantity'][i]\n",
    "        result[\"High\"] += concatdf[\"High\"+str(i)]*actions['quantity'][i]\n",
    "        result[\"Low\"] += concatdf[\"Low\"+str(i)]*actions['quantity'][i]\n",
    "        result[\"Close\"] += concatdf[\"Close\"+str(i)]*actions['quantity'][i]\n",
    "\n",
    "    return result"
   ]
  },
  {
   "cell_type": "code",
   "execution_count": 19,
   "id": "2a590c29",
   "metadata": {},
   "outputs": [],
   "source": [
    "def getFinalHist():\n",
    "    actions = pd.read_csv('Actions.csv', sep =';')\n",
    "    \n",
    "    df = getActionsHist(actions)\n",
    "    \n",
    "    concatdf = concatHist(df, actions)\n",
    "    \n",
    "    return resultHist(concatdf, actions)"
   ]
  },
  {
   "cell_type": "code",
   "execution_count": 20,
   "id": "a2992f6f",
   "metadata": {},
   "outputs": [
    {
     "name": "stderr",
     "output_type": "stream",
     "text": [
      "C:\\Users\\leand\\AppData\\Local\\Temp\\ipykernel_19140\\2331458215.py:7: FutureWarning: DataFrame.set_axis 'inplace' keyword is deprecated and will be removed in a future version. Use `obj = obj.set_axis(..., copy=False)` instead\n",
      "  df[i].set_axis([ 'Open'+str(i), 'High'+str(i),'Low'+str(i),'Close'+str(i)], axis='columns', inplace=True)\n",
      "C:\\Users\\leand\\AppData\\Local\\Temp\\ipykernel_19140\\2331458215.py:7: FutureWarning: DataFrame.set_axis 'inplace' keyword is deprecated and will be removed in a future version. Use `obj = obj.set_axis(..., copy=False)` instead\n",
      "  df[i].set_axis([ 'Open'+str(i), 'High'+str(i),'Low'+str(i),'Close'+str(i)], axis='columns', inplace=True)\n",
      "C:\\Users\\leand\\AppData\\Local\\Temp\\ipykernel_19140\\2331458215.py:7: FutureWarning: DataFrame.set_axis 'inplace' keyword is deprecated and will be removed in a future version. Use `obj = obj.set_axis(..., copy=False)` instead\n",
      "  df[i].set_axis([ 'Open'+str(i), 'High'+str(i),'Low'+str(i),'Close'+str(i)], axis='columns', inplace=True)\n"
     ]
    },
    {
     "ename": "TypeError",
     "evalue": "'NoneType' object is not subscriptable",
     "output_type": "error",
     "traceback": [
      "\u001b[1;31m---------------------------------------------------------------------------\u001b[0m",
      "\u001b[1;31mTypeError\u001b[0m                                 Traceback (most recent call last)",
      "Cell \u001b[1;32mIn[20], line 1\u001b[0m\n\u001b[1;32m----> 1\u001b[0m test \u001b[38;5;241m=\u001b[39m \u001b[43mgetFinalHist\u001b[49m\u001b[43m(\u001b[49m\u001b[43m)\u001b[49m\n\u001b[0;32m      2\u001b[0m test\n",
      "Cell \u001b[1;32mIn[19], line 8\u001b[0m, in \u001b[0;36mgetFinalHist\u001b[1;34m()\u001b[0m\n\u001b[0;32m      4\u001b[0m df \u001b[38;5;241m=\u001b[39m getActionsHist(actions)\n\u001b[0;32m      6\u001b[0m concatdf \u001b[38;5;241m=\u001b[39m concatHist(df, actions)\n\u001b[1;32m----> 8\u001b[0m \u001b[38;5;28;01mreturn\u001b[39;00m \u001b[43mresultHist\u001b[49m\u001b[43m(\u001b[49m\u001b[43mconcatdf\u001b[49m\u001b[43m,\u001b[49m\u001b[43m \u001b[49m\u001b[43mactions\u001b[49m\u001b[43m)\u001b[49m\n",
      "Cell \u001b[1;32mIn[18], line 4\u001b[0m, in \u001b[0;36mresultHist\u001b[1;34m(concatdf, actions)\u001b[0m\n\u001b[0;32m      1\u001b[0m \u001b[38;5;28;01mdef\u001b[39;00m \u001b[38;5;21mresultHist\u001b[39m(concatdf, actions):\n\u001b[0;32m      2\u001b[0m     result \u001b[38;5;241m=\u001b[39m pd\u001b[38;5;241m.\u001b[39mDataFrame(columns\u001b[38;5;241m=\u001b[39m[\u001b[38;5;124m\"\u001b[39m\u001b[38;5;124mOpen\u001b[39m\u001b[38;5;124m\"\u001b[39m,\u001b[38;5;124m\"\u001b[39m\u001b[38;5;124mHigh\u001b[39m\u001b[38;5;124m\"\u001b[39m,\u001b[38;5;124m\"\u001b[39m\u001b[38;5;124mLow\u001b[39m\u001b[38;5;124m\"\u001b[39m,\u001b[38;5;124m\"\u001b[39m\u001b[38;5;124mClose\u001b[39m\u001b[38;5;124m\"\u001b[39m])\n\u001b[1;32m----> 4\u001b[0m     result[\u001b[38;5;124m\"\u001b[39m\u001b[38;5;124mOpen\u001b[39m\u001b[38;5;124m\"\u001b[39m] \u001b[38;5;241m=\u001b[39m \u001b[43mconcatdf\u001b[49m\u001b[43m[\u001b[49m\u001b[38;5;124;43m\"\u001b[39;49m\u001b[38;5;124;43mOpen0\u001b[39;49m\u001b[38;5;124;43m\"\u001b[39;49m\u001b[43m]\u001b[49m\u001b[38;5;241m*\u001b[39mactions[\u001b[38;5;124m'\u001b[39m\u001b[38;5;124mquantity\u001b[39m\u001b[38;5;124m'\u001b[39m][\u001b[38;5;241m0\u001b[39m]\n\u001b[0;32m      5\u001b[0m     result[\u001b[38;5;124m\"\u001b[39m\u001b[38;5;124mHigh\u001b[39m\u001b[38;5;124m\"\u001b[39m] \u001b[38;5;241m=\u001b[39m concatdf[\u001b[38;5;124m\"\u001b[39m\u001b[38;5;124mHigh0\u001b[39m\u001b[38;5;124m\"\u001b[39m]\u001b[38;5;241m*\u001b[39mactions[\u001b[38;5;124m'\u001b[39m\u001b[38;5;124mquantity\u001b[39m\u001b[38;5;124m'\u001b[39m][\u001b[38;5;241m0\u001b[39m]\n\u001b[0;32m      6\u001b[0m     result[\u001b[38;5;124m\"\u001b[39m\u001b[38;5;124mLow\u001b[39m\u001b[38;5;124m\"\u001b[39m] \u001b[38;5;241m=\u001b[39m concatdf[\u001b[38;5;124m\"\u001b[39m\u001b[38;5;124mLow0\u001b[39m\u001b[38;5;124m\"\u001b[39m]\u001b[38;5;241m*\u001b[39mactions[\u001b[38;5;124m'\u001b[39m\u001b[38;5;124mquantity\u001b[39m\u001b[38;5;124m'\u001b[39m][\u001b[38;5;241m0\u001b[39m]\n",
      "\u001b[1;31mTypeError\u001b[0m: 'NoneType' object is not subscriptable"
     ]
    }
   ],
   "source": [
    "test = getFinalHist()\n",
    "test"
   ]
  },
  {
   "cell_type": "code",
   "execution_count": 10,
   "id": "797b8641",
   "metadata": {},
   "outputs": [],
   "source": [
    "actions = pd.read_csv('Actions.csv', sep =';')\n",
    "i=0\n",
    "df = pd.DataFrame(yf.Ticker(actions['symbole'][i]).history(period='1d', start='2022-9-1', end=None))\n",
    "df['Date'] = df.index\n",
    "pd.to_datetime(df['Date'])\n",
    "df['Date'] = pd.to_datetime(df['Date'], format=\"%m/%d/%Y\")\n",
    "\n",
    "df"
   ]
  },
  {
   "cell_type": "code",
   "execution_count": 17,
   "id": "33e7c3b0",
   "metadata": {},
   "outputs": [
    {
     "ename": "SyntaxError",
     "evalue": "invalid syntax (476835175.py, line 4)",
     "output_type": "error",
     "traceback": [
      "\u001b[1;36m  Cell \u001b[1;32mIn[17], line 4\u001b[1;36m\u001b[0m\n\u001b[1;33m    df['Date'] = df.index[[0:10]]\u001b[0m\n\u001b[1;37m                            ^\u001b[0m\n\u001b[1;31mSyntaxError\u001b[0m\u001b[1;31m:\u001b[0m invalid syntax\n"
     ]
    }
   ],
   "source": [
    "actions = pd.read_csv('Actions.csv', sep =';')\n",
    "i=0\n",
    "df = pd.DataFrame(yf.Ticker(actions['symbole'][i]).history(period='1d', start='2022-9-1', end=None))\n",
    "df['Date'] = df.index[[0:10]]"
   ]
  },
  {
   "cell_type": "code",
   "execution_count": null,
   "id": "cf05d424",
   "metadata": {},
   "outputs": [],
   "source": []
  }
 ],
 "metadata": {
  "kernelspec": {
   "display_name": "Python 3 (ipykernel)",
   "language": "python",
   "name": "python3"
  },
  "language_info": {
   "codemirror_mode": {
    "name": "ipython",
    "version": 3
   },
   "file_extension": ".py",
   "mimetype": "text/x-python",
   "name": "python",
   "nbconvert_exporter": "python",
   "pygments_lexer": "ipython3",
   "version": "3.10.5"
  }
 },
 "nbformat": 4,
 "nbformat_minor": 5
}
